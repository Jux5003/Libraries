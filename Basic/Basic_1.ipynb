{
 "cells": [
  {
   "cell_type": "markdown",
   "id": "906835da-b6eb-4467-be55-1469d95dffdb",
   "metadata": {},
   "source": [
    "### module 버전 확인"
   ]
  },
  {
   "cell_type": "code",
   "execution_count": 6,
   "id": "8eb93264-c38f-455c-ad3f-92410ae95beb",
   "metadata": {},
   "outputs": [
    {
     "data": {
      "text/plain": [
       "'1.7.2'"
      ]
     },
     "execution_count": 6,
     "metadata": {},
     "output_type": "execute_result"
    }
   ],
   "source": [
    "import xgboost\n",
    "xgboost.__version__"
   ]
  },
  {
   "cell_type": "markdown",
   "id": "4b8d5369-05c6-4669-9b1c-3e891ebec1a3",
   "metadata": {},
   "source": [
    "### 조건 활용"
   ]
  },
  {
   "cell_type": "code",
   "execution_count": null,
   "id": "9369c0e6-22fd-440b-9996-50d108b361c1",
   "metadata": {
    "tags": []
   },
   "outputs": [],
   "source": [
    "## 조건에 맞는 경우만 출력\n",
    "print(feature_dup_df[feature_dup_df['column_index'] > 1].count())"
   ]
  },
  {
   "cell_type": "markdown",
   "id": "33b2e469-2190-4043-b351-6f83e2e37d09",
   "metadata": {},
   "source": [
    "### 인덱싱"
   ]
  },
  {
   "cell_type": "code",
   "execution_count": 4,
   "id": "2ecd9521-072a-4340-bde6-5ff73bd63599",
   "metadata": {},
   "outputs": [
    {
     "name": "stdout",
     "output_type": "stream",
     "text": [
      "Python\n",
      "Python\n"
     ]
    }
   ],
   "source": [
    "word='Python'\n",
    "len(word)\n",
    "print(word[0]+word[1]+word[2]+word[3]+word[4]+word[5])\n",
    "print(word[-6]+word[-5]+word[-4]+word[-3]+word[-2]+word[-1])"
   ]
  },
  {
   "cell_type": "markdown",
   "id": "424548a9-71e0-40b5-93b1-4cd9c8113921",
   "metadata": {},
   "source": [
    "### list 복사"
   ]
  },
  {
   "cell_type": "code",
   "execution_count": 17,
   "id": "97f766fb-895c-4dcf-8f71-a9a00cb6443e",
   "metadata": {},
   "outputs": [
    {
     "name": "stdout",
     "output_type": "stream",
     "text": [
      "a= [1, 2, 3, 4, 5] b= [1, 500, 3, 4, 5]\n",
      "a= [1, 500, 3, 4, 5] c= [1, 500, 3, 4, 5]\n"
     ]
    }
   ],
   "source": [
    "## 리스트 복사 시 차이점\n",
    "a=[1,2,3,4,5]\n",
    "b=a[:]                     ## 리스트 복사 후 요소 변경 시 기존 리스트(a)에 영향을 주지 않음\n",
    "c=a                        ## 리스트 복사 후 요소 변경 시 기존 리스트(a)가 함께 변경됨\n",
    "\n",
    "b[1]=500\n",
    "print('a=',a, 'b=',b)\n",
    "\n",
    "c[1]=500\n",
    "print('a=',a, 'c=',c)"
   ]
  },
  {
   "cell_type": "markdown",
   "id": "8589ff67-09a1-43e2-bae8-c5e516e5784e",
   "metadata": {},
   "source": [
    "### list 내포"
   ]
  },
  {
   "cell_type": "code",
   "execution_count": 21,
   "id": "95babdb8-ad09-4b5f-b766-f0500ef1bca5",
   "metadata": {},
   "outputs": [
    {
     "name": "stdout",
     "output_type": "stream",
     "text": [
      "[1, 4, 9, 16, 25]\n",
      "[1, 4, 9, 16, 25]\n",
      "[4, 16]\n"
     ]
    }
   ],
   "source": [
    "## 파이썬의 내포 기능을 활용하여 반복문을 보다 간결하게 처리\n",
    "\n",
    "### case 1   \"제곱수의 리스트를 만들기\"\n",
    "nums=[1,2,3,4,5]\n",
    "squares1=[]\n",
    "for x in nums:\n",
    "    squares1.append(x**2)\n",
    "print (squares1)\n",
    "\n",
    "### case 2   \"제곱수의 리스트를 만들기\", 이렇게도 된다\n",
    "nums=[1,2,3,4,5]\n",
    "squares2=[x**2 for x in nums]\n",
    "print (squares2)\n",
    "\n",
    "### case 3   조건문도 붙일 수 있다\n",
    "nums=[1,2,3,4,5]\n",
    "squares3=[x**2 for x in nums if x%2==0]      ## 짝수일때만 계산하여 리스트에 저장\n",
    "print (squares3)\n"
   ]
  },
  {
   "cell_type": "markdown",
   "id": "ccdf18d1-a282-4ac1-ac4a-1b5d1ce09ec0",
   "metadata": {},
   "source": [
    "### list 에서 중복원소 제거하는 방법"
   ]
  },
  {
   "cell_type": "code",
   "execution_count": 32,
   "id": "b39474e6-d9a9-4a95-bfb8-959e220ec4d0",
   "metadata": {},
   "outputs": [
    {
     "name": "stdout",
     "output_type": "stream",
     "text": [
      "[1, 2, 3, 4, 5, 6, 7, 8, 9]\n",
      "[1, 2, 9, 5, 7, 3, 4, 6, 8]\n"
     ]
    },
    {
     "ename": "AttributeError",
     "evalue": "'list' object has no attribute 'unique'",
     "output_type": "error",
     "traceback": [
      "\u001b[1;31m---------------------------------------------------------------------------\u001b[0m",
      "\u001b[1;31mAttributeError\u001b[0m                            Traceback (most recent call last)",
      "Cell \u001b[1;32mIn[32], line 14\u001b[0m\n\u001b[0;32m     11\u001b[0m \u001b[38;5;28mprint\u001b[39m(abc_2)\n\u001b[0;32m     13\u001b[0m \u001b[38;5;66;03m### case 3   .unique() 는 dataframe에서만 작동\u001b[39;00m\n\u001b[1;32m---> 14\u001b[0m \u001b[43mabc\u001b[49m\u001b[38;5;241;43m.\u001b[39;49m\u001b[43munique\u001b[49m()\n",
      "\u001b[1;31mAttributeError\u001b[0m: 'list' object has no attribute 'unique'"
     ]
    }
   ],
   "source": [
    "abc= [1,2,9,5,7,3,4,5,6,7,8,9,1,2,3,1,3,1,3,1,4,1,5,1,8,3,4,5]\n",
    "\n",
    "### case 1   set 으로 변경 시 중복된 요소는 하나만 추출되는 것 활용\n",
    "abc_1=list(set(abc))\n",
    "print (abc_1)\n",
    "### case 2   for 활용\n",
    "abc_2=[]\n",
    "for ix in abc:\n",
    "    if ix not in abc_2:\n",
    "        abc_2.append(ix)\n",
    "print(abc_2)\n",
    "\n",
    "### case 3   .unique() 는 dataframe에서만 작동\n",
    "abc.unique()"
   ]
  },
  {
   "cell_type": "markdown",
   "id": "b91c8161-68af-40a5-a384-51d221a53212",
   "metadata": {},
   "source": [
    "### print format 활용"
   ]
  },
  {
   "cell_type": "code",
   "execution_count": null,
   "id": "5ee8220f-3606-451f-83cb-9a4754bbe6de",
   "metadata": {},
   "outputs": [],
   "source": [
    "print(\"Feature importances:\\n{0}\".format(np.round(dt_clf.feature_importances_, 3)))\n",
    "for name, value in zip(iris_data.feature_names , dt_clf.feature_importances_):\n",
    "    print('{0} : {1:.3f}'.format(name, value))"
   ]
  },
  {
   "cell_type": "markdown",
   "id": "8bef4354-b084-4cce-aad2-0dadce4b3afb",
   "metadata": {},
   "source": [
    "### for : in zip"
   ]
  },
  {
   "cell_type": "code",
   "execution_count": null,
   "id": "f7444b47-ec47-42d4-82b4-19debf15bf8a",
   "metadata": {},
   "outputs": [],
   "source": [
    "for name, value in zip(iris_data.feature_names , dt_clf.feature_importances_):\n",
    "    print('{0} : {1:.3f}'.format(name, value))"
   ]
  },
  {
   "cell_type": "markdown",
   "id": "d9e00923-d620-4037-9557-5d75008ee577",
   "metadata": {},
   "source": [
    "### for : enumerate"
   ]
  },
  {
   "cell_type": "code",
   "execution_count": 5,
   "id": "c7f3b83b-9201-4b90-8b0c-fc9d5d5e0f77",
   "metadata": {},
   "outputs": [
    {
     "name": "stdout",
     "output_type": "stream",
     "text": [
      "1 FB\n",
      "2 AMZN\n",
      "3 AAPL\n",
      "4 NPLX\n",
      "5 GOOGL\n"
     ]
    }
   ],
   "source": [
    "FAANG=['FB','AMZN','AAPL','NPLX','GOOGL']\n",
    "for idx,symbol in enumerate(FAANG,1):        ## enumerate 의 시작값 1을 안쓰면 0부터 시작함\n",
    "    print(idx, symbol)"
   ]
  },
  {
   "cell_type": "markdown",
   "id": "a347f0a9-ad18-4f5a-80bd-f98c52a2b488",
   "metadata": {},
   "source": [
    "### split, join"
   ]
  },
  {
   "cell_type": "code",
   "execution_count": 13,
   "id": "0a1688df-3a40-48a9-a6cb-3c08387a53ed",
   "metadata": {},
   "outputs": [
    {
     "name": "stdout",
     "output_type": "stream",
     "text": [
      "['Thoughts', 'become', 'things.'] <class 'list'>\n"
     ]
    },
    {
     "data": {
      "text/plain": [
       "'Thoughts become things.'"
      ]
     },
     "execution_count": 13,
     "metadata": {},
     "output_type": "execute_result"
    }
   ],
   "source": [
    "myList='Thoughts become things.'.split()\n",
    "print(myList, type(myList))\n",
    "\n",
    "' '.join(myList) ## .join 앞의 ' ' 안에 들어간 문자, 공백 등이 문자열 사이에 반영됨"
   ]
  },
  {
   "cell_type": "code",
   "execution_count": 14,
   "id": "c47d43ee-5fde-4e1f-9e7d-b88dbea33475",
   "metadata": {},
   "outputs": [
    {
     "data": {
      "text/plain": [
       "'2020-12-14'"
      ]
     },
     "execution_count": 14,
     "metadata": {},
     "output_type": "execute_result"
    }
   ],
   "source": [
    "'-'.join('2020/12/14'.split('/'))      ## join 과 split를 이용해서 표현 변경 가능"
   ]
  },
  {
   "cell_type": "code",
   "execution_count": 15,
   "id": "18a71afa-3d66-4fd1-a5a6-ce1464dc3d38",
   "metadata": {},
   "outputs": [
    {
     "data": {
      "text/plain": [
       "'2020-12-14'"
      ]
     },
     "execution_count": 15,
     "metadata": {},
     "output_type": "execute_result"
    }
   ],
   "source": [
    "'2020/12/14'.replace('/','-')          ## 이게 더 편리하기는 하다"
   ]
  },
  {
   "cell_type": "markdown",
   "id": "e29cff29-71ac-4be0-8489-f9059643db5d",
   "metadata": {},
   "source": [
    "### Numpy"
   ]
  },
  {
   "cell_type": "code",
   "execution_count": null,
   "id": "329f236c-98f1-4009-b7f9-ea402995da96",
   "metadata": {
    "tags": []
   },
   "outputs": [],
   "source": [
    "## 2D-array의 각 n번째 data만 추출하는 방법\n",
    "# plot 형태로 2개의 feature로 2차원 좌표 시각화, 각 클래스값은 다른 색깔로 표시됨. \n",
    "plt.scatter(X_features[:, 0], X_features[:, 1], marker='o', c=y_labels, s=25, cmap='rainbow', edgecolor='k')"
   ]
  },
  {
   "cell_type": "markdown",
   "id": "9e706fc7-54bc-4a37-9586-a1813f0ee40e",
   "metadata": {},
   "source": [
    "### def"
   ]
  },
  {
   "cell_type": "code",
   "execution_count": null,
   "id": "a2af09c8-bb10-429b-a1d0-e0ff596e0968",
   "metadata": {},
   "outputs": [],
   "source": [
    "## 원본 데이터에 중복된 Feature 명으로 인하여 신규 버전의 Pandas에서 Duplicate name 에러를 발생.\n",
    "## 중복 feature명에 대해서 원본 feature 명에 '_1(또는2)'를 추가로 부여하는 함수인 get_new_feature_name_df() 생성 (파이썬 머신러닝 완벽가이드 4-2)\n",
    "\n",
    "def get_new_feature_name_df(old_feature_name_df):\n",
    "    feature_dup_df = pd.DataFrame(data=old_feature_name_df.groupby('column_name').cumcount(),\n",
    "                                  columns=['dup_cnt'])\n",
    "    feature_dup_df = feature_dup_df.reset_index()\n",
    "    new_feature_name_df = pd.merge(old_feature_name_df.reset_index(), feature_dup_df, how='outer')\n",
    "    new_feature_name_df['column_name'] = new_feature_name_df[['column_name', 'dup_cnt']].apply(lambda x : x[0]+'_'+str(x[1]) \n",
    "                                                                                         if x[1] >0 else x[0] ,  axis=1)\n",
    "    new_feature_name_df = new_feature_name_df.drop(['index'], axis=1)\n",
    "    return new_feature_name_df"
   ]
  },
  {
   "cell_type": "code",
   "execution_count": null,
   "id": "4310157d-6626-4782-b3dd-a0ead983b773",
   "metadata": {},
   "outputs": [],
   "source": [
    "# Classifier의 Decision Boundary를 시각화 하는 함수 (파이썬 머신러닝 완벽가이드 4-2)\n",
    "\n",
    "def visualize_boundary(model, X, y):\n",
    "    fig,ax = plt.subplots()\n",
    "    \n",
    "    # 학습 데이타 scatter plot으로 나타내기\n",
    "    ax.scatter(X[:, 0], X[:, 1], c=y, s=25, cmap='rainbow', edgecolor='k',\n",
    "               clim=(y.min(), y.max()), zorder=3)\n",
    "    ax.axis('tight')\n",
    "    ax.axis('off')\n",
    "    xlim_start , xlim_end = ax.get_xlim()\n",
    "    ylim_start , ylim_end = ax.get_ylim()\n",
    "    \n",
    "    # 호출 파라미터로 들어온 training 데이타로 model 학습 . \n",
    "    model.fit(X, y)\n",
    "    # meshgrid 형태인 모든 좌표값으로 예측 수행. \n",
    "    xx, yy = np.meshgrid(np.linspace(xlim_start,xlim_end, num=200),np.linspace(ylim_start,ylim_end, num=200))\n",
    "    Z = model.predict(np.c_[xx.ravel(), yy.ravel()]).reshape(xx.shape)\n",
    "    \n",
    "    # contourf() 를 이용하여 class boundary 를 visualization 수행. \n",
    "    n_classes = len(np.unique(y))\n",
    "    contours = ax.contourf(xx, yy, Z, alpha=0.3,\n",
    "                           levels=np.arange(n_classes + 1) - 0.5,\n",
    "                           cmap='rainbow', clim=(y.min(), y.max()),\n",
    "                           zorder=1)"
   ]
  },
  {
   "cell_type": "code",
   "execution_count": null,
   "id": "a3542b32-0d52-486d-8cc7-a1f39db6c47b",
   "metadata": {},
   "outputs": [],
   "source": [
    "def get_human_dataset( ):\n",
    "    \n",
    "    # 각 데이터 파일들은 공백으로 분리되어 있으므로 read_csv에서 공백 문자를 sep으로 할당.\n",
    "    feature_name_df = pd.read_csv('./human_activity/features.txt',sep='\\s+',\n",
    "                        header=None,names=['column_index','column_name'])\n",
    "    \n",
    "    # 중복된 피처명을 수정하는 get_new_feature_name_df()를 이용, 신규 피처명 DataFrame생성. \n",
    "    new_feature_name_df = get_new_feature_name_df(feature_name_df)\n",
    "    \n",
    "    # DataFrame에 피처명을 컬럼으로 부여하기 위해 리스트 객체로 다시 변환\n",
    "    feature_name = new_feature_name_df.iloc[:, 1].values.tolist()\n",
    "    \n",
    "    # 학습 피처 데이터 셋과 테스트 피처 데이터을 DataFrame으로 로딩. 컬럼명은 feature_name 적용\n",
    "    X_train = pd.read_csv('./human_activity/train/X_train.txt',sep='\\s+', names=feature_name )\n",
    "    X_test = pd.read_csv('./human_activity/test/X_test.txt',sep='\\s+', names=feature_name)\n",
    "    \n",
    "    # 학습 레이블과 테스트 레이블 데이터을 DataFrame으로 로딩하고 컬럼명은 action으로 부여\n",
    "    y_train = pd.read_csv('./human_activity/train/y_train.txt',sep='\\s+',header=None,names=['action'])\n",
    "    y_test = pd.read_csv('./human_activity/test/y_test.txt',sep='\\s+',header=None,names=['action'])\n",
    "    \n",
    "    # 로드된 학습/테스트용 DataFrame을 모두 반환 \n",
    "    return X_train, X_test, y_train, y_test"
   ]
  }
 ],
 "metadata": {
  "kernelspec": {
   "display_name": "Python [conda env:ls_env]",
   "language": "python",
   "name": "conda-env-ls_env-py"
  },
  "language_info": {
   "codemirror_mode": {
    "name": "ipython",
    "version": 3
   },
   "file_extension": ".py",
   "mimetype": "text/x-python",
   "name": "python",
   "nbconvert_exporter": "python",
   "pygments_lexer": "ipython3",
   "version": "3.10.8"
  }
 },
 "nbformat": 4,
 "nbformat_minor": 5
}
