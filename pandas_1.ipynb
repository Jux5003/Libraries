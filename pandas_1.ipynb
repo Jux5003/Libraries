{
 "cells": [
  {
   "cell_type": "markdown",
   "id": "56aeaa7a-5b1c-4ae0-9f75-d6245fa4db7c",
   "metadata": {},
   "source": [
    "### 불러오기"
   ]
  },
  {
   "cell_type": "code",
   "execution_count": null,
   "id": "c1c60a0f-dcf3-440f-8269-c8c4e430ec83",
   "metadata": {},
   "outputs": [],
   "source": [
    "# features.txt 파일에는 피처 이름 index와 피처명이 공백으로 분리되어 있음. 이를 DataFrame으로 로드.\n",
    "feature_name_df = pd.read_csv('./human_activity/features.txt',sep='\\s+',       ## \\s+ 1개 이상의 공백\n",
    "                        header=None,names=['column_index','column_name'])"
   ]
  },
  {
   "cell_type": "code",
   "execution_count": null,
   "id": "013696c5-6056-43b6-96a3-16c70b9a8e59",
   "metadata": {},
   "outputs": [],
   "source": [
    "# column 명이 없는 txt를 불러올 때, column의 이름은 names='' 옵션으로 설정함\n",
    "y_test = pd.read_csv('./human_activity/test/y_test.txt',sep='\\s+',header=None,names=['action'])"
   ]
  },
  {
   "cell_type": "markdown",
   "id": "108babd9-ca52-449f-b3f7-00e186644ae2",
   "metadata": {},
   "source": [
    "### 슬라이싱 iloc, loc\n",
    "    - iloc : int (index 위치)\n",
    "    - loc : (index 번호)"
   ]
  },
  {
   "cell_type": "code",
   "execution_count": null,
   "id": "b3a904b9-38aa-43b0-be02-32e40f26a01b",
   "metadata": {},
   "outputs": [],
   "source": [
    "# column 이 2개인 데이터 중 2번째 column의 내용을 list 화\n",
    "feature_name = feature_name_df.iloc[:, 1].values.tolist()"
   ]
  },
  {
   "cell_type": "markdown",
   "id": "a432052d-d8b2-4c59-a1a2-bfc086890634",
   "metadata": {},
   "source": [
    "### 묶기 groupby"
   ]
  },
  {
   "cell_type": "code",
   "execution_count": null,
   "id": "cbc7e1b0-49a5-4cc0-b054-a059df7ec2ae",
   "metadata": {},
   "outputs": [],
   "source": [
    "## 'column_name'이름의 column으로 묶은 뒤 전체 수를 확인, \n",
    "feature_dup_df = feature_name_df.groupby('column_name').count()  ## .count 대신 sum, mean, min, max 등 활용 가능"
   ]
  },
  {
   "cell_type": "code",
   "execution_count": null,
   "id": "bcd0a1fa-4edd-49e7-8c14-348d52c9f2bd",
   "metadata": {},
   "outputs": [],
   "source": [
    "## 수치 묶어서 확인 (동일한 값이 몇개 있는지)\n",
    "y_train['action'].value_counts()"
   ]
  },
  {
   "cell_type": "markdown",
   "id": "b8c563b6-e353-4448-889f-3a1eb978bef2",
   "metadata": {},
   "source": [
    "### 변환"
   ]
  },
  {
   "cell_type": "code",
   "execution_count": null,
   "id": "537c4328-c9b2-4d2b-a326-44b2d28325fc",
   "metadata": {},
   "outputs": [],
   "source": [
    "## to Series\n",
    "ftr_importances = pd.Series(ftr_importances_values, index=X_train.columns  ) ## 여기서 ftr_importances_values 는 1D array"
   ]
  }
 ],
 "metadata": {
  "kernelspec": {
   "display_name": "Python [conda env:ls_env]",
   "language": "python",
   "name": "conda-env-ls_env-py"
  },
  "language_info": {
   "codemirror_mode": {
    "name": "ipython",
    "version": 3
   },
   "file_extension": ".py",
   "mimetype": "text/x-python",
   "name": "python",
   "nbconvert_exporter": "python",
   "pygments_lexer": "ipython3",
   "version": "3.10.8"
  }
 },
 "nbformat": 4,
 "nbformat_minor": 5
}
