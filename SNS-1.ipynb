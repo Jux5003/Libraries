{
 "cells": [
  {
   "cell_type": "markdown",
   "id": "10d0f3bd-956f-425a-92d4-120f08c7b6ff",
   "metadata": {},
   "source": [
    "### Bar plot"
   ]
  },
  {
   "cell_type": "code",
   "execution_count": null,
   "id": "cfc41e5e-dd99-4441-966a-865f2a8e7df7",
   "metadata": {},
   "outputs": [],
   "source": [
    "# feature importance를 column 별로 시각화 하기 \n",
    "sns.barplot(x=dt_clf.feature_importances_ , y=iris_data.feature_names) ## ML-1, 4행"
   ]
  },
  {
   "cell_type": "code",
   "execution_count": null,
   "id": "bdb77661-7980-44e4-b707-040d5bd49e17",
   "metadata": {},
   "outputs": [],
   "source": [
    "## 결정트리에서 각 피처의 중요도를 bar chart로 표현 (파이썬 머신러닝 완벽가이드 4-2, p.210)\n",
    "\n",
    "import seaborn as sns\n",
    "\n",
    "ftr_importances_values = best_df_clf.feature_importances_\n",
    "# Top 중요도로 정렬을 쉽게 하고, 시본(Seaborn)의 막대그래프로 쉽게 표현하기 위해 Series변환\n",
    "ftr_importances = pd.Series(ftr_importances_values, index=X_train.columns  )\n",
    "# 중요도값 순으로 Series를 정렬\n",
    "ftr_top20 = ftr_importances.sort_values(ascending=False)[:20]\n",
    "plt.figure(figsize=(8,6))\n",
    "plt.title('Feature importances Top 20')\n",
    "sns.barplot(x=ftr_top20 , y = ftr_top20.index)\n",
    "plt.show()"
   ]
  },
  {
   "cell_type": "markdown",
   "id": "e218f9c5-2c5d-44fb-b193-8c5f7ddfa4e9",
   "metadata": {},
   "source": [
    "### Scatter chart"
   ]
  },
  {
   "cell_type": "code",
   "execution_count": null,
   "id": "5122ce1c-9626-49dc-9d31-4e79dddcc407",
   "metadata": {},
   "outputs": [],
   "source": [
    "# plot 형태로 2개의 feature로 2차원 좌표 시각화, 각 클래스값은 다른 색깔로 표시됨. \n",
    "plt.scatter(X_features[:, 0], X_features[:, 1], marker='o', c=y_labels, s=25, cmap='rainbow', edgecolor='k')"
   ]
  }
 ],
 "metadata": {
  "kernelspec": {
   "display_name": "Python [conda env:ls_env]",
   "language": "python",
   "name": "conda-env-ls_env-py"
  },
  "language_info": {
   "codemirror_mode": {
    "name": "ipython",
    "version": 3
   },
   "file_extension": ".py",
   "mimetype": "text/x-python",
   "name": "python",
   "nbconvert_exporter": "python",
   "pygments_lexer": "ipython3",
   "version": "3.10.8"
  }
 },
 "nbformat": 4,
 "nbformat_minor": 5
}
